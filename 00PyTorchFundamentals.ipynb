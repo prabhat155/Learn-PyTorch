{
  "nbformat": 4,
  "nbformat_minor": 0,
  "metadata": {
    "colab": {
      "provenance": []
    },
    "kernelspec": {
      "name": "python3",
      "display_name": "Python 3"
    },
    "language_info": {
      "name": "python"
    }
  },
  "cells": [
    {
      "cell_type": "code",
      "execution_count": null,
      "metadata": {
        "colab": {
          "base_uri": "https://localhost:8080/",
          "height": 36
        },
        "id": "0HlN6YEU3Szw",
        "outputId": "19caf20f-9b0e-4766-fed4-e3acfb9d80dc"
      },
      "outputs": [
        {
          "output_type": "execute_result",
          "data": {
            "text/plain": [
              "'2.6.0+cu124'"
            ],
            "application/vnd.google.colaboratory.intrinsic+json": {
              "type": "string"
            }
          },
          "metadata": {},
          "execution_count": 1
        }
      ],
      "source": [
        "import torch\n",
        "torch.__version__"
      ]
    },
    {
      "cell_type": "markdown",
      "source": [
        "# SCALAR"
      ],
      "metadata": {
        "id": "Jcel_hQk5c7y"
      }
    },
    {
      "cell_type": "code",
      "source": [
        "scalar = torch.tensor(6)\n",
        "scalar"
      ],
      "metadata": {
        "colab": {
          "base_uri": "https://localhost:8080/"
        },
        "id": "UVWKs5v73ck1",
        "outputId": "91a3d538-90f8-4ca9-98a8-05eed97dbe56"
      },
      "execution_count": null,
      "outputs": [
        {
          "output_type": "execute_result",
          "data": {
            "text/plain": [
              "tensor(6)"
            ]
          },
          "metadata": {},
          "execution_count": 2
        }
      ]
    },
    {
      "cell_type": "code",
      "source": [
        "scalar.ndim"
      ],
      "metadata": {
        "colab": {
          "base_uri": "https://localhost:8080/"
        },
        "id": "P--STdd83tsy",
        "outputId": "49077281-3439-4bba-f0ad-7c3d88af2aa0"
      },
      "execution_count": null,
      "outputs": [
        {
          "output_type": "execute_result",
          "data": {
            "text/plain": [
              "0"
            ]
          },
          "metadata": {},
          "execution_count": 3
        }
      ]
    },
    {
      "cell_type": "code",
      "source": [
        "scalar.shape"
      ],
      "metadata": {
        "colab": {
          "base_uri": "https://localhost:8080/"
        },
        "id": "1Fw1IV3g4ayd",
        "outputId": "0e9f0a80-04bd-4bea-b2d1-e250dec4341e"
      },
      "execution_count": null,
      "outputs": [
        {
          "output_type": "execute_result",
          "data": {
            "text/plain": [
              "torch.Size([])"
            ]
          },
          "metadata": {},
          "execution_count": 4
        }
      ]
    },
    {
      "cell_type": "code",
      "source": [
        "# Get the Python number within a tensor (only works with one-element tensors)\n",
        "scalar.item()"
      ],
      "metadata": {
        "colab": {
          "base_uri": "https://localhost:8080/"
        },
        "id": "OtFcO_Ye3vMH",
        "outputId": "d071cfc5-9191-4082-8828-138008a04a79"
      },
      "execution_count": null,
      "outputs": [
        {
          "output_type": "execute_result",
          "data": {
            "text/plain": [
              "6"
            ]
          },
          "metadata": {},
          "execution_count": 5
        }
      ]
    },
    {
      "cell_type": "markdown",
      "source": [
        "# VECTOR"
      ],
      "metadata": {
        "id": "gH8_nMie5Tfm"
      }
    },
    {
      "cell_type": "code",
      "source": [
        "vector = torch.tensor([7,7])\n",
        "vector"
      ],
      "metadata": {
        "colab": {
          "base_uri": "https://localhost:8080/"
        },
        "id": "mTsIz6ja36M4",
        "outputId": "24fbc666-7f0e-44f7-be2d-ac7707fbe0a6"
      },
      "execution_count": null,
      "outputs": [
        {
          "output_type": "execute_result",
          "data": {
            "text/plain": [
              "tensor([7, 7])"
            ]
          },
          "metadata": {},
          "execution_count": 6
        }
      ]
    },
    {
      "cell_type": "code",
      "source": [
        "# Check the number of dimensions of vector\n",
        "vector.ndim"
      ],
      "metadata": {
        "colab": {
          "base_uri": "https://localhost:8080/"
        },
        "id": "mgpUgAE54I7I",
        "outputId": "d6dc2bbb-6152-40e8-bd8f-5c85b0bbd338"
      },
      "execution_count": null,
      "outputs": [
        {
          "output_type": "execute_result",
          "data": {
            "text/plain": [
              "1"
            ]
          },
          "metadata": {},
          "execution_count": 7
        }
      ]
    },
    {
      "cell_type": "code",
      "source": [
        "# Check shape of vector\n",
        "vector.shape"
      ],
      "metadata": {
        "colab": {
          "base_uri": "https://localhost:8080/"
        },
        "id": "KoIva_mY4NKq",
        "outputId": "a600fad4-5718-4387-af2c-eb3c9dc855cf"
      },
      "execution_count": null,
      "outputs": [
        {
          "output_type": "execute_result",
          "data": {
            "text/plain": [
              "torch.Size([2])"
            ]
          },
          "metadata": {},
          "execution_count": 8
        }
      ]
    },
    {
      "cell_type": "markdown",
      "source": [
        "# MATRIX"
      ],
      "metadata": {
        "id": "d4Kd-36O5ZK3"
      }
    },
    {
      "cell_type": "code",
      "source": [
        "matrix = torch.tensor([[2,2],\n",
        "                       [3,3],\n",
        "                       [4,4]])\n",
        "matrix"
      ],
      "metadata": {
        "colab": {
          "base_uri": "https://localhost:8080/"
        },
        "id": "E1gzZWOR4Xd2",
        "outputId": "a0af5d8a-8319-4351-f256-5f84ee5b5a8d"
      },
      "execution_count": null,
      "outputs": [
        {
          "output_type": "execute_result",
          "data": {
            "text/plain": [
              "tensor([[2, 2],\n",
              "        [3, 3],\n",
              "        [4, 4]])"
            ]
          },
          "metadata": {},
          "execution_count": 9
        }
      ]
    },
    {
      "cell_type": "code",
      "source": [
        "matrix.ndim"
      ],
      "metadata": {
        "colab": {
          "base_uri": "https://localhost:8080/"
        },
        "id": "rqjaPyte40SM",
        "outputId": "4b7e7ecd-2f3f-4072-b2c1-fef4ee15610f"
      },
      "execution_count": null,
      "outputs": [
        {
          "output_type": "execute_result",
          "data": {
            "text/plain": [
              "2"
            ]
          },
          "metadata": {},
          "execution_count": 10
        }
      ]
    },
    {
      "cell_type": "code",
      "source": [
        "matrix.shape"
      ],
      "metadata": {
        "colab": {
          "base_uri": "https://localhost:8080/"
        },
        "id": "uV9fIk3_43Mj",
        "outputId": "e4b1d9d1-d081-452e-96d6-2f70babebe70"
      },
      "execution_count": null,
      "outputs": [
        {
          "output_type": "execute_result",
          "data": {
            "text/plain": [
              "torch.Size([3, 2])"
            ]
          },
          "metadata": {},
          "execution_count": 11
        }
      ]
    },
    {
      "cell_type": "markdown",
      "source": [
        "# TENSOR"
      ],
      "metadata": {
        "id": "T25G1EL35gmI"
      }
    },
    {
      "cell_type": "code",
      "source": [
        "tensor = torch.tensor([[[1,2,3],\n",
        "                        [3,4,5],\n",
        "                        [5,6,7]]])\n",
        "tensor"
      ],
      "metadata": {
        "colab": {
          "base_uri": "https://localhost:8080/"
        },
        "id": "hqZyi8gw45OG",
        "outputId": "ee48c14b-5a55-40de-f5fc-4cdff206eba6"
      },
      "execution_count": null,
      "outputs": [
        {
          "output_type": "execute_result",
          "data": {
            "text/plain": [
              "tensor([[[1, 2, 3],\n",
              "         [3, 4, 5],\n",
              "         [5, 6, 7]]])"
            ]
          },
          "metadata": {},
          "execution_count": 12
        }
      ]
    },
    {
      "cell_type": "code",
      "source": [
        "tensor.ndim"
      ],
      "metadata": {
        "colab": {
          "base_uri": "https://localhost:8080/"
        },
        "id": "qtnBcq3l6BiY",
        "outputId": "86d19954-1c93-433c-c812-939b282d38ff"
      },
      "execution_count": null,
      "outputs": [
        {
          "output_type": "execute_result",
          "data": {
            "text/plain": [
              "3"
            ]
          },
          "metadata": {},
          "execution_count": 13
        }
      ]
    },
    {
      "cell_type": "code",
      "source": [
        "tensor.shape"
      ],
      "metadata": {
        "colab": {
          "base_uri": "https://localhost:8080/"
        },
        "id": "-SVCgyzU6IGj",
        "outputId": "e10d444d-c3fb-427c-b358-f46a733d63d0"
      },
      "execution_count": null,
      "outputs": [
        {
          "output_type": "execute_result",
          "data": {
            "text/plain": [
              "torch.Size([1, 3, 3])"
            ]
          },
          "metadata": {},
          "execution_count": 14
        }
      ]
    },
    {
      "cell_type": "markdown",
      "source": [
        "# Random Tensors"
      ],
      "metadata": {
        "id": "_9Wpilqt1mtQ"
      }
    },
    {
      "cell_type": "markdown",
      "source": [
        "When building machine learning models with PyTorch, it's rare you'll create tensors by hand (like what we've been doing).\n",
        "Instead, a machine learning model often starts out with large random tensors of numbers and adjusts these random numbers as it works through data to better represent it."
      ],
      "metadata": {
        "id": "kfOeH8JU1xiN"
      }
    },
    {
      "cell_type": "markdown",
      "source": [
        "*Start with random numbers -> look at data -> update random numbers -> look at data -> update random numbers...*"
      ],
      "metadata": {
        "id": "SHOfEUOF15an"
      }
    },
    {
      "cell_type": "code",
      "source": [
        "random_tensor = torch.rand(size=(3,4))\n",
        "random_tensor"
      ],
      "metadata": {
        "colab": {
          "base_uri": "https://localhost:8080/"
        },
        "id": "7bzHcxAa6JvD",
        "outputId": "d92717fc-2a4e-4b98-f1d7-ef51db7e5fb1"
      },
      "execution_count": null,
      "outputs": [
        {
          "output_type": "execute_result",
          "data": {
            "text/plain": [
              "tensor([[0.1829, 0.7932, 0.2424, 0.0659],\n",
              "        [0.7030, 0.4313, 0.1945, 0.9932],\n",
              "        [0.4014, 0.2990, 0.5526, 0.5381]])"
            ]
          },
          "metadata": {},
          "execution_count": 15
        }
      ]
    },
    {
      "cell_type": "markdown",
      "source": [
        "The flexibility of torch.rand() is that we can adjust the size to be whatever we want.\n",
        "\n",
        "For example, say you wanted a random tensor in the common image shape of [224, 224, 3] ([height, width, color_channels]).\n"
      ],
      "metadata": {
        "id": "IXoswl1U2bLz"
      }
    },
    {
      "cell_type": "code",
      "source": [
        "random_image_size_tensor = torch.rand(size = (224,224,3))\n",
        "random_image_size_tensor.shape, random_image_size_tensor.ndim"
      ],
      "metadata": {
        "colab": {
          "base_uri": "https://localhost:8080/"
        },
        "id": "CZNlElBp2KBO",
        "outputId": "12f366ab-8efe-4d86-e4f5-ab0da4214882"
      },
      "execution_count": null,
      "outputs": [
        {
          "output_type": "execute_result",
          "data": {
            "text/plain": [
              "(torch.Size([224, 224, 3]), 3)"
            ]
          },
          "metadata": {},
          "execution_count": 16
        }
      ]
    },
    {
      "cell_type": "markdown",
      "source": [
        "Create tensor with all zeros"
      ],
      "metadata": {
        "id": "_hQnj4Rq3b3F"
      }
    },
    {
      "cell_type": "code",
      "source": [
        "zero = torch.zeros(size=(3,4))\n",
        "zero"
      ],
      "metadata": {
        "colab": {
          "base_uri": "https://localhost:8080/"
        },
        "id": "eGSmKtez3ZCZ",
        "outputId": "534a1158-c629-4c61-c7e1-8979ac528032"
      },
      "execution_count": null,
      "outputs": [
        {
          "output_type": "execute_result",
          "data": {
            "text/plain": [
              "tensor([[0., 0., 0., 0.],\n",
              "        [0., 0., 0., 0.],\n",
              "        [0., 0., 0., 0.]])"
            ]
          },
          "metadata": {},
          "execution_count": 17
        }
      ]
    },
    {
      "cell_type": "markdown",
      "source": [
        "Create tensor with all ones"
      ],
      "metadata": {
        "id": "87LH9_EQ3pV2"
      }
    },
    {
      "cell_type": "code",
      "source": [
        "one = torch.ones(size=(3,4))\n",
        "one, one.dtype"
      ],
      "metadata": {
        "colab": {
          "base_uri": "https://localhost:8080/"
        },
        "id": "mihbsZh_2pXk",
        "outputId": "8b2c0183-d8f9-4585-fca3-c5312fdce3da"
      },
      "execution_count": null,
      "outputs": [
        {
          "output_type": "execute_result",
          "data": {
            "text/plain": [
              "(tensor([[1., 1., 1., 1.],\n",
              "         [1., 1., 1., 1.],\n",
              "         [1., 1., 1., 1.]]),\n",
              " torch.float32)"
            ]
          },
          "metadata": {},
          "execution_count": 18
        }
      ]
    },
    {
      "cell_type": "code",
      "source": [
        "range = torch.range(0,10)\n",
        "range"
      ],
      "metadata": {
        "colab": {
          "base_uri": "https://localhost:8080/"
        },
        "id": "YWtwsVL53SNf",
        "outputId": "49e3af8a-4c5b-4cb5-d2f2-d4b122e0aec7"
      },
      "execution_count": null,
      "outputs": [
        {
          "output_type": "stream",
          "name": "stderr",
          "text": [
            "<ipython-input-19-91a60021e470>:1: UserWarning: torch.range is deprecated and will be removed in a future release because its behavior is inconsistent with Python's range builtin. Instead, use torch.arange, which produces values in [start, end).\n",
            "  range = torch.range(0,10)\n"
          ]
        },
        {
          "output_type": "execute_result",
          "data": {
            "text/plain": [
              "tensor([ 0.,  1.,  2.,  3.,  4.,  5.,  6.,  7.,  8.,  9., 10.])"
            ]
          },
          "metadata": {},
          "execution_count": 19
        }
      ]
    },
    {
      "cell_type": "code",
      "source": [
        "zero_to_ten = torch.arange(start = 0, end = 10, step = 1)\n",
        "zero_to_ten"
      ],
      "metadata": {
        "colab": {
          "base_uri": "https://localhost:8080/"
        },
        "id": "_7Ah0oEc_zcI",
        "outputId": "4d12eb7c-f5f4-4b62-b481-5555120b7f6e"
      },
      "execution_count": null,
      "outputs": [
        {
          "output_type": "execute_result",
          "data": {
            "text/plain": [
              "tensor([0, 1, 2, 3, 4, 5, 6, 7, 8, 9])"
            ]
          },
          "metadata": {},
          "execution_count": 20
        }
      ]
    },
    {
      "cell_type": "markdown",
      "source": [
        "# Getting Information From Tensor"
      ],
      "metadata": {
        "id": "o_Hial0NCvs9"
      }
    },
    {
      "cell_type": "markdown",
      "source": [
        "Once you've created tensors (or someone else or a PyTorch module has created them for you), you might want to get some information from them.\n",
        "\n",
        "We've seen these before but three of the most common attributes you'll want to find out about tensors are:\n",
        "\n",
        "    shape - what shape is the tensor? (some operations require specific shape rules)\n",
        "    dtype - what datatype are the elements within the tensor stored in?\n",
        "    device - what device is the tensor stored on? (usually GPU or CPU)\n",
        "\n",
        "Let's create a random tensor and find out details about it."
      ],
      "metadata": {
        "id": "LDA8uO82Cz45"
      }
    },
    {
      "cell_type": "code",
      "source": [
        "# Create a tensor\n",
        "some_tensor = torch.rand(3, 4)\n",
        "\n",
        "# Find out details about it\n",
        "print(some_tensor)\n",
        "print(f\"Shape of tensor: {some_tensor.shape}\")\n",
        "print(f\"Datatype of tensor: {some_tensor.dtype}\")\n",
        "print(f\"Device tensor is stored on: {some_tensor.device}\") # will default to CPU"
      ],
      "metadata": {
        "colab": {
          "base_uri": "https://localhost:8080/"
        },
        "id": "X6Rfa4tkAB5P",
        "outputId": "c9e7a0e5-a1d9-4620-d630-e0c363d0cf6e"
      },
      "execution_count": null,
      "outputs": [
        {
          "output_type": "stream",
          "name": "stdout",
          "text": [
            "tensor([[0.6499, 0.9459, 0.9203, 0.9694],\n",
            "        [0.6182, 0.8580, 0.5276, 0.9463],\n",
            "        [0.3025, 0.8458, 0.9679, 0.8027]])\n",
            "Shape of tensor: torch.Size([3, 4])\n",
            "Datatype of tensor: torch.float32\n",
            "Device tensor is stored on: cpu\n"
          ]
        }
      ]
    }
  ]
}